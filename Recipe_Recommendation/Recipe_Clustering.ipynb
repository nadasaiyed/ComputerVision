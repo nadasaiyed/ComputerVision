{
 "cells": [
  {
   "cell_type": "code",
   "execution_count": 123,
   "metadata": {},
   "outputs": [
    {
     "name": "stdout",
     "output_type": "stream",
     "text": [
      "Reading Ingredients dataset\n",
      "\t Number of Ingredients :  3500\n",
      "\tNumber of Ingredients after processing:  3464\n",
      "Reading Recipe dataset\n",
      "\tAttributes of the dataset:  Index(['directions', 'fat', 'date', 'categories', 'calories', 'desc',\n",
      "       'protein', 'rating', 'title', 'ingredients', 'sodium'],\n",
      "      dtype='object')\n",
      "\tNumber of records in the dataset 20111\n",
      "\tDuplicate titles:  2336\n",
      "\n",
      "Description of nutrients\n",
      "                fat      calories        sodium        protein\n",
      "count  1.404000e+04  1.404000e+04  1.404000e+04   14040.000000\n",
      "mean   3.734793e+02  6.828955e+03  6.778545e+03      94.723006\n",
      "std    2.166725e+04  3.808970e+05  3.540896e+05    3565.098714\n",
      "min    0.000000e+00  0.000000e+00  0.000000e+00       0.000000\n",
      "25%    9.000000e+00  2.090000e+02  9.300000e+01       3.000000\n",
      "50%    1.800000e+01  3.520000e+02  3.120000e+02       9.000000\n",
      "75%    3.500000e+01  6.060000e+02  7.420000e+02      29.000000\n",
      "max    1.722763e+06  3.011122e+07  2.767511e+07  236489.000000\n",
      "\n",
      "Processing the dataset...\n",
      "\t Removing items which have no ingredients. Removed items: 38\n"
     ]
    },
    {
     "name": "stderr",
     "output_type": "stream",
     "text": [
      "C:\\Users\\Admin\\Anaconda3\\lib\\site-packages\\pandas\\core\\indexing.py:205: SettingWithCopyWarning: \n",
      "A value is trying to be set on a copy of a slice from a DataFrame\n",
      "\n",
      "See the caveats in the documentation: http://pandas.pydata.org/pandas-docs/stable/user_guide/indexing.html#returning-a-view-versus-a-copy\n",
      "  self._setitem_with_indexer(indexer, value)\n"
     ]
    },
    {
     "name": "stdout",
     "output_type": "stream",
     "text": [
      "(17737, 13)\n",
      "Saving the processed dataset\n"
     ]
    },
    {
     "data": {
      "image/png": "[encoded data removed]",
      "text/plain": [
       "<Figure size 432x288 with 1 Axes>"
      ]
     },
     "metadata": {},
     "output_type": "display_data"
    }
   ],
   "source": [
    "%run -i \"preprocess_data.py\""
   ]
  },
  {
   "cell_type": "code",
   "execution_count": 124,
   "metadata": {},
   "outputs": [],
   "source": [
    "import pandas as pd\n",
    "import numpy as np\n",
    "import re\n",
    "import os\n",
    "import matplotlib.pyplot as plt\n",
    "import seaborn as sns\n",
    "\n",
    "%matplotlib inline"
   ]
  },
  {
   "cell_type": "code",
   "execution_count": 125,
   "metadata": {
    "scrolled": true
   },
   "outputs": [
    {
     "name": "stdout",
     "output_type": "stream",
     "text": [
      "(17737, 13)\n"
     ]
    },
    {
     "data": {
      "text/html": [
       "<div>\n",
       "<style scoped>\n",
       "    .dataframe tbody tr th:only-of-type {\n",
       "        vertical-align: middle;\n",
       "    }\n",
       "\n",
       "    .dataframe tbody tr th {\n",
       "        vertical-align: top;\n",
       "    }\n",
       "\n",
       "    .dataframe thead th {\n",
       "        text-align: right;\n",
       "    }\n",
       "</style>\n",
       "<table border=\"1\" class=\"dataframe\">\n",
       "  <thead>\n",
       "    <tr style=\"text-align: right;\">\n",
       "      <th></th>\n",
       "      <th>directions</th>\n",
       "      <th>fat</th>\n",
       "      <th>categories</th>\n",
       "      <th>calories</th>\n",
       "      <th>desc</th>\n",
       "      <th>protein</th>\n",
       "      <th>title</th>\n",
       "      <th>ingredients</th>\n",
       "      <th>sodium</th>\n",
       "      <th>ingredients_list</th>\n",
       "      <th>ingredients_count</th>\n",
       "      <th>ingredients_doc</th>\n",
       "      <th>ingredients_stem</th>\n",
       "    </tr>\n",
       "  </thead>\n",
       "  <tbody>\n",
       "    <tr>\n",
       "      <td>0</td>\n",
       "      <td>['1. Place the stock, lentils, celery, carrot,...</td>\n",
       "      <td>7.0</td>\n",
       "      <td>['Sandwich', 'Bean', 'Fruit', 'Tomato', 'turke...</td>\n",
       "      <td>426.0</td>\n",
       "      <td>NaN</td>\n",
       "      <td>30.0</td>\n",
       "      <td>Lentil, Apple, and Turkey Wrap</td>\n",
       "      <td>['4 cups low-sodium vegetable or chicken stock...</td>\n",
       "      <td>559.0</td>\n",
       "      <td>['extra-virgin olive oil', 'flour tortillas', ...</td>\n",
       "      <td>17</td>\n",
       "      <td>extra-virgin olive oil flour tortillas brown l...</td>\n",
       "      <td>extra-virgin oliv oil flour tortilla brown len...</td>\n",
       "    </tr>\n",
       "    <tr>\n",
       "      <td>1</td>\n",
       "      <td>['Combine first 9 ingredients in heavy medium ...</td>\n",
       "      <td>23.0</td>\n",
       "      <td>['Food Processor', 'Onion', 'Pork', 'Bake', 'B...</td>\n",
       "      <td>403.0</td>\n",
       "      <td>This uses the same ingredients found in boudin...</td>\n",
       "      <td>18.0</td>\n",
       "      <td>Boudin Blanc Terrine with Red Onion Confit</td>\n",
       "      <td>['1 1/2 cups whipping cream', '2 medium onions...</td>\n",
       "      <td>1439.0</td>\n",
       "      <td>['lettuce leaves', 'dried thyme', 'eggs', 'gar...</td>\n",
       "      <td>31</td>\n",
       "      <td>lettuce leaves dried thyme eggs garlic pepper ...</td>\n",
       "      <td>lettuc leav thyme egg garlic pepper red onion ...</td>\n",
       "    </tr>\n",
       "    <tr>\n",
       "      <td>2</td>\n",
       "      <td>['In a large heavy saucepan cook diced fennel ...</td>\n",
       "      <td>7.0</td>\n",
       "      <td>['Soup/Stew', 'Dairy', 'Potato', 'Vegetable', ...</td>\n",
       "      <td>165.0</td>\n",
       "      <td>NaN</td>\n",
       "      <td>6.0</td>\n",
       "      <td>Potato and Fennel Soup Hodge</td>\n",
       "      <td>['1 fennel bulb (sometimes called anise), stal...</td>\n",
       "      <td>165.0</td>\n",
       "      <td>['chicken broth', 'fennel bulb', 'garnish', 'u...</td>\n",
       "      <td>7</td>\n",
       "      <td>chicken broth fennel bulb garnish unsalted but...</td>\n",
       "      <td>chicken broth fennel bulb garnish unsalt butte...</td>\n",
       "    </tr>\n",
       "    <tr>\n",
       "      <td>3</td>\n",
       "      <td>['Heat oil in heavy large skillet over medium-...</td>\n",
       "      <td>NaN</td>\n",
       "      <td>['Fish', 'Olive', 'Tomato', 'Sauté', 'Low Fat'...</td>\n",
       "      <td>NaN</td>\n",
       "      <td>The Sicilian-style tomato sauce has tons of Me...</td>\n",
       "      <td>NaN</td>\n",
       "      <td>Mahi-Mahi in Tomato Olive Sauce</td>\n",
       "      <td>['2 tablespoons extra-virgin olive oil', '1 cu...</td>\n",
       "      <td>NaN</td>\n",
       "      <td>['extra-virgin olive oil', 'fillets', 'white b...</td>\n",
       "      <td>11</td>\n",
       "      <td>extra-virgin olive oil fillets white bread dic...</td>\n",
       "      <td>extra-virgin oliv oil fillet white bread dice ...</td>\n",
       "    </tr>\n",
       "    <tr>\n",
       "      <td>4</td>\n",
       "      <td>['Preheat oven to 350°F. Lightly grease 8x8x2-...</td>\n",
       "      <td>32.0</td>\n",
       "      <td>['Cheese', 'Dairy', 'Pasta', 'Vegetable', 'Sid...</td>\n",
       "      <td>547.0</td>\n",
       "      <td>NaN</td>\n",
       "      <td>20.0</td>\n",
       "      <td>Spinach Noodle Casserole</td>\n",
       "      <td>['1 12-ounce package frozen spinach soufflé, t...</td>\n",
       "      <td>452.0</td>\n",
       "      <td>['ground nutmeg', 'sour cream', 'pesto sauce',...</td>\n",
       "      <td>6</td>\n",
       "      <td>ground nutmeg sour cream pesto sauce frozen sp...</td>\n",
       "      <td>nutmeg sour cream pesto sauc frozen spinach w...</td>\n",
       "    </tr>\n",
       "  </tbody>\n",
       "</table>\n",
       "</div>"
      ],
      "text/plain": [
       "                                          directions   fat  \\\n",
       "0  ['1. Place the stock, lentils, celery, carrot,...   7.0   \n",
       "1  ['Combine first 9 ingredients in heavy medium ...  23.0   \n",
       "2  ['In a large heavy saucepan cook diced fennel ...   7.0   \n",
       "3  ['Heat oil in heavy large skillet over medium-...   NaN   \n",
       "4  ['Preheat oven to 350°F. Lightly grease 8x8x2-...  32.0   \n",
       "\n",
       "                                          categories  calories  \\\n",
       "0  ['Sandwich', 'Bean', 'Fruit', 'Tomato', 'turke...     426.0   \n",
       "1  ['Food Processor', 'Onion', 'Pork', 'Bake', 'B...     403.0   \n",
       "2  ['Soup/Stew', 'Dairy', 'Potato', 'Vegetable', ...     165.0   \n",
       "3  ['Fish', 'Olive', 'Tomato', 'Sauté', 'Low Fat'...       NaN   \n",
       "4  ['Cheese', 'Dairy', 'Pasta', 'Vegetable', 'Sid...     547.0   \n",
       "\n",
       "                                                desc  protein  \\\n",
       "0                                                NaN     30.0   \n",
       "1  This uses the same ingredients found in boudin...     18.0   \n",
       "2                                                NaN      6.0   \n",
       "3  The Sicilian-style tomato sauce has tons of Me...      NaN   \n",
       "4                                                NaN     20.0   \n",
       "\n",
       "                                         title  \\\n",
       "0              Lentil, Apple, and Turkey Wrap    \n",
       "1  Boudin Blanc Terrine with Red Onion Confit    \n",
       "2                Potato and Fennel Soup Hodge    \n",
       "3             Mahi-Mahi in Tomato Olive Sauce    \n",
       "4                    Spinach Noodle Casserole    \n",
       "\n",
       "                                         ingredients  sodium  \\\n",
       "0  ['4 cups low-sodium vegetable or chicken stock...   559.0   \n",
       "1  ['1 1/2 cups whipping cream', '2 medium onions...  1439.0   \n",
       "2  ['1 fennel bulb (sometimes called anise), stal...   165.0   \n",
       "3  ['2 tablespoons extra-virgin olive oil', '1 cu...     NaN   \n",
       "4  ['1 12-ounce package frozen spinach soufflé, t...   452.0   \n",
       "\n",
       "                                    ingredients_list  ingredients_count  \\\n",
       "0  ['extra-virgin olive oil', 'flour tortillas', ...                 17   \n",
       "1  ['lettuce leaves', 'dried thyme', 'eggs', 'gar...                 31   \n",
       "2  ['chicken broth', 'fennel bulb', 'garnish', 'u...                  7   \n",
       "3  ['extra-virgin olive oil', 'fillets', 'white b...                 11   \n",
       "4  ['ground nutmeg', 'sour cream', 'pesto sauce',...                  6   \n",
       "\n",
       "                                     ingredients_doc  \\\n",
       "0  extra-virgin olive oil flour tortillas brown l...   \n",
       "1  lettuce leaves dried thyme eggs garlic pepper ...   \n",
       "2  chicken broth fennel bulb garnish unsalted but...   \n",
       "3  extra-virgin olive oil fillets white bread dic...   \n",
       "4  ground nutmeg sour cream pesto sauce frozen sp...   \n",
       "\n",
       "                                    ingredients_stem  \n",
       "0  extra-virgin oliv oil flour tortilla brown len...  \n",
       "1  lettuc leav thyme egg garlic pepper red onion ...  \n",
       "2  chicken broth fennel bulb garnish unsalt butte...  \n",
       "3  extra-virgin oliv oil fillet white bread dice ...  \n",
       "4   nutmeg sour cream pesto sauc frozen spinach w...  "
      ]
     },
     "execution_count": 125,
     "metadata": {},
     "output_type": "execute_result"
    }
   ],
   "source": [
    "data = pd.read_csv('processed_data.csv')\n",
    "print(data.shape)\n",
    "data.head()"
   ]
  },
  {
   "cell_type": "markdown",
   "metadata": {},
   "source": [
    "\n",
    "## Clustering based on similar ingredients"
   ]
  },
  {
   "cell_type": "code",
   "execution_count": 126,
   "metadata": {
    "scrolled": true
   },
   "outputs": [],
   "source": [
    "# from sklearn.feature_extraction.text import CountVectorizer\n",
    "\n",
    "# vec = CountVectorizer()\n",
    "# matrix = vec.fit_transform(data['ingredients_stem'])\n",
    "# pd.DataFrame(matrix.toarray(), columns=vec.get_feature_names())\n",
    "# count=np.sum(matrix.toarray(),axis=0)\n",
    "# item_count = dict(zip(vec.get_feature_names(), count))\n",
    "# item = ([key for key,value in item_count.items() if value<5])"
   ]
  },
  {
   "cell_type": "code",
   "execution_count": 127,
   "metadata": {
    "scrolled": true
   },
   "outputs": [],
   "source": [
    "# Commented as it takes a lot of time to run\n",
    "# from scipy.cluster.hierarchy import ward, dendrogram\n",
    "\n",
    "# linkage_matrix = ward(dist) #define the linkage_matrix using ward clustering pre-computed distances\n",
    "\n",
    "# fig, ax = plt.subplots(figsize=(15, 20)) # set size\n",
    "# ax = dendrogram(linkage_matrix, orientation=\"right\");\n",
    "\n",
    "# plt.tick_params(\\\n",
    "#     axis= 'x',          # changes apply to the x-axis\n",
    "#     which='both',      # both major and minor ticks are affected\n",
    "#     bottom='off',      # ticks along the bottom edge are off\n",
    "#     top='off',         # ticks along the top edge are off\n",
    "#     labelbottom='off')\n",
    "\n",
    "# plt.tight_layout() #show plot with tight layout\n",
    "\n",
    "# #uncomment below to save figure\n",
    "# plt.savefig('ward_clusters.png', dpi=200) #save figure as ward_clusters"
   ]
  },
  {
   "cell_type": "code",
   "execution_count": 128,
   "metadata": {
    "scrolled": true
   },
   "outputs": [],
   "source": [
    "from sklearn.feature_extraction.text import TfidfVectorizer\n",
    "\n",
    "vec = TfidfVectorizer(use_idf=False, norm='l2') #cosine similarity\n",
    "X = vec.fit_transform(data['ingredients_stem'])\n",
    "\n"
   ]
  },
  {
   "cell_type": "code",
   "execution_count": 129,
   "metadata": {
    "scrolled": false
   },
   "outputs": [],
   "source": [
    "# Analysisng terms with high tf-idf values\n",
    "\n",
    "# print(\"n_samples: %d, n_features: %d\" % X.shape)\n",
    "# a=[]\n",
    "# b=[]\n",
    "# # print(pd.DataFrame(X.toarray(), columns=vec.get_feature_names())[['salt','cream','flour','chicken','eggs']].iloc[113])\n",
    "# X_df = pd.DataFrame(X.toarray(), columns=vec.get_feature_names())\n",
    "# X_df.shape[0]\n",
    "# for i in range(X_df.shape[0]):\n",
    "#     temp= X_df.iloc[i]\n",
    "#     a.append(np.argmax(temp))\n",
    "#     b.append(np.max(temp))\n",
    "# df=pd.DataFrame()\n",
    "# df['a']=a\n",
    "# df['b']=b\n",
    "# df[df['b']>0.8]['a']"
   ]
  },
  {
   "cell_type": "code",
   "execution_count": 130,
   "metadata": {
    "scrolled": true
   },
   "outputs": [
    {
     "name": "stdout",
     "output_type": "stream",
     "text": [
      "Clustering sparse data with KMeans(algorithm='auto', copy_x=True, init='k-means++', max_iter=100,\n",
      "       n_clusters=5, n_init=1, n_jobs=None, precompute_distances='auto',\n",
      "       random_state=None, tol=0.0001, verbose=0)\n",
      "13902.469520660608\n",
      "Silhouette Coefficient: 0.034\n",
      "\n",
      "Clustering sparse data with KMeans(algorithm='auto', copy_x=True, init='k-means++', max_iter=100,\n",
      "       n_clusters=10, n_init=1, n_jobs=None, precompute_distances='auto',\n",
      "       random_state=None, tol=0.0001, verbose=0)\n",
      "13260.656339931433\n",
      "Silhouette Coefficient: 0.034\n",
      "\n",
      "Clustering sparse data with KMeans(algorithm='auto', copy_x=True, init='k-means++', max_iter=100,\n",
      "       n_clusters=15, n_init=1, n_jobs=None, precompute_distances='auto',\n",
      "       random_state=None, tol=0.0001, verbose=0)\n",
      "12841.984016079261\n",
      "Silhouette Coefficient: 0.028\n",
      "\n",
      "Clustering sparse data with KMeans(algorithm='auto', copy_x=True, init='k-means++', max_iter=100,\n",
      "       n_clusters=20, n_init=1, n_jobs=None, precompute_distances='auto',\n",
      "       random_state=None, tol=0.0001, verbose=0)\n",
      "12561.722324996423\n",
      "Silhouette Coefficient: 0.028\n",
      "\n",
      "Clustering sparse data with KMeans(algorithm='auto', copy_x=True, init='k-means++', max_iter=100,\n",
      "       n_clusters=25, n_init=1, n_jobs=None, precompute_distances='auto',\n",
      "       random_state=None, tol=0.0001, verbose=0)\n",
      "12342.74981228581\n",
      "Silhouette Coefficient: 0.030\n",
      "\n"
     ]
    }
   ],
   "source": [
    "from sklearn import metrics\n",
    "from sklearn.cluster import KMeans\n",
    "import random\n",
    "from sklearn.metrics import silhouette_samples, silhouette_score\n",
    "random.seed(1000) \n",
    "#to replicate the results\n",
    "#Elbow method\n",
    "distortations = {}\n",
    "silhouette={}\n",
    "for k in range(5,26,5):\n",
    "    km = KMeans(n_clusters=k, init='k-means++', max_iter=100, n_init=1)\n",
    "    print(\"Clustering sparse data with %s\" % km)\n",
    "    km.fit(X)\n",
    "    distortations[k] = km.inertia_\n",
    "    print(km.inertia_)\n",
    "    silhouette[k]=(metrics.silhouette_score(X, km.labels_, sample_size=1000))\n",
    "    print(\"Silhouette Coefficient: %0.3f\" % metrics.silhouette_score(X, km.labels_, sample_size=1000))\n",
    "    print()\n",
    "\n"
   ]
  },
  {
   "cell_type": "code",
   "execution_count": 131,
   "metadata": {},
   "outputs": [
    {
     "data": {
      "image/png": "[encoded data removed]",
      "text/plain": [
       "<Figure size 432x288 with 1 Axes>"
      ]
     },
     "metadata": {
      "needs_background": "light"
     },
     "output_type": "display_data"
    },
    {
     "data": {
      "image/png": "[encoded data removed]",
      "text/plain": [
       "<Figure size 432x288 with 1 Axes>"
      ]
     },
     "metadata": {
      "needs_background": "light"
     },
     "output_type": "display_data"
    }
   ],
   "source": [
    "keys=[x for x in distortations.keys()]\n",
    "values = [x for x in distortations.values()]\n",
    "silhouette = [x for x in silhouette.values()]\n",
    "plt.plot(keys,values)\n",
    "plt.title('Elbow method on ingredients dataset')\n",
    "plt.xlabel('Number of clusters')\n",
    "plt.ylabel('Within-cluster SSE')\n",
    "plt.show()\n",
    "\n",
    "plt.plot(keys,silhouette)\n",
    "plt.title('silhouette analysis on ingredients dataset')\n",
    "plt.xlabel('Number of clusters')\n",
    "plt.ylabel('silhouette score')\n",
    "plt.show()\n",
    "\n",
    "# silhouette"
   ]
  },
  {
   "cell_type": "code",
   "execution_count": 132,
   "metadata": {},
   "outputs": [
    {
     "name": "stdout",
     "output_type": "stream",
     "text": [
      "Clustering sparse data with KMeans(algorithm='auto', copy_x=True, init='k-means++', max_iter=100,\n",
      "       n_clusters=15, n_init=1, n_jobs=None, precompute_distances='auto',\n",
      "       random_state=None, tol=0.0001, verbose=0)\n",
      "Silhouette Coefficient: 0.031\n",
      "\n",
      "\n"
     ]
    }
   ],
   "source": [
    "k_cluster=15\n",
    "km = KMeans(n_clusters=k_cluster, init='k-means++', max_iter=100, n_init=1)\n",
    "print(\"Clustering sparse data with %s\" % km)\n",
    "km.fit(X)\n",
    "print(\"Silhouette Coefficient: %0.3f\" % metrics.silhouette_score(X, km.labels_, sample_size=20000))\n",
    "print()\n",
    "print()\n",
    "\n",
    "# print(\"Top terms per cluster:\")\n",
    "# order_centroids = km.cluster_centers_.argsort()[:, ::-1]\n",
    "\n",
    "# terms = vec.get_feature_names()\n",
    "# for i in range(k_cluster):\n",
    "#     print(\"Cluster %d:\" % i, end='')\n",
    "#     for ind in order_centroids[i, :10]:\n",
    "#         print(' %s' % terms[ind], end='')\n",
    "#     print()"
   ]
  },
  {
   "cell_type": "code",
   "execution_count": 133,
   "metadata": {
    "scrolled": true
   },
   "outputs": [
    {
     "name": "stdout",
     "output_type": "stream",
     "text": [
      "Number of items in each cluster:\n",
      "Items in cluster  0 : 1253\n",
      "Items in cluster  1 : 1218\n",
      "Items in cluster  2 : 949\n",
      "Items in cluster  3 : 1502\n",
      "Items in cluster  4 : 1362\n",
      "Items in cluster  5 : 1231\n",
      "Items in cluster  6 : 983\n",
      "Items in cluster  7 : 648\n",
      "Items in cluster  8 : 1329\n",
      "Items in cluster  9 : 1589\n",
      "Items in cluster  10 : 1416\n",
      "Items in cluster  11 : 880\n",
      "Items in cluster  12 : 1439\n",
      "Items in cluster  13 : 701\n",
      "Items in cluster  14 : 1237\n"
     ]
    }
   ],
   "source": [
    "data['labels']=km.labels_\n",
    "print(\"Number of items in each cluster:\")\n",
    "for i in range(k_cluster):\n",
    "    print(\"Items in cluster \",i,\":\",len(data[data['labels']==i]))"
   ]
  },
  {
   "cell_type": "code",
   "execution_count": 134,
   "metadata": {},
   "outputs": [],
   "source": [
    "data.to_csv(\"processed_data.csv\",index=False)"
   ]
  }
 ],
 "metadata": {
  "kernelspec": {
   "display_name": "Python 3",
   "language": "python",
   "name": "python3"
  },
  "language_info": {
   "codemirror_mode": {
    "name": "ipython",
    "version": 3
   },
   "file_extension": ".py",
   "mimetype": "text/x-python",
   "name": "python",
   "nbconvert_exporter": "python",
   "pygments_lexer": "ipython3",
   "version": "3.7.4"
  }
 },
 "nbformat": 4,
 "nbformat_minor": 2
}
